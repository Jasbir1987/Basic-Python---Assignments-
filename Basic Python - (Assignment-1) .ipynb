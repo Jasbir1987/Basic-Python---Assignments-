{
 "cells": [
  {
   "cell_type": "markdown",
   "metadata": {},
   "source": [
    "## Python baisc Assignment 1"
   ]
  },
  {
   "cell_type": "code",
   "execution_count": 6,
   "metadata": {},
   "outputs": [
    {
     "data": {
      "text/plain": [
       "\"\\n*\\n'hello'\\n-87.8\\n-\\n/\\n+\\n6\\n\""
      ]
     },
     "execution_count": 6,
     "metadata": {},
     "output_type": "execute_result"
    }
   ],
   "source": [
    "\"\"\"\n",
    "1. What are the differences between operators and values in the following?\n",
    "*\n",
    "'hello'\n",
    "-87.8\n",
    "-\n",
    "/\n",
    "+\n",
    "6\n",
    "\n",
    "Ans : Operators are special symbole that represent computations like addition, multiplication and division. eg:*,-,/,+. \n",
    "      however, the calulation is done on the values with the help of opertaor. eg 'Hello',-87.8,6\n",
    "\"\"\"\n"
   ]
  },
  {
   "cell_type": "code",
   "execution_count": 7,
   "metadata": {},
   "outputs": [
    {
     "data": {
      "text/plain": [
       "' 2) What is the difference between string and variable?\\nspam\\n\\'spam\\'\\n\\nAns:- String- is a datatype in python, it can be anything like alphbate and numeric or anything inclosed in  \" \" or \\'\\'\\n      Example-\\'Spam\\', \"Spam\"\\n      Variable- is a place of memorry to store the value for computation \\n      Example -spam\\n\\n'"
      ]
     },
     "execution_count": 7,
     "metadata": {},
     "output_type": "execute_result"
    }
   ],
   "source": [
    "\"\"\" \n",
    "2) What is the difference between string and variable?\n",
    "spam\n",
    "'spam'\n",
    "\n",
    "Ans:- String- is a datatype in python, it can be anything like alphbate and numeric or anything inclosed in  single, double or triple quotes\n",
    "      Example-'Spam', \"Spam\"\n",
    "      \n",
    "      Variable- is a place of memorry to store the value for computation \n",
    "      Example -spam\n",
    "\n",
    "\"\"\""
   ]
  },
  {
   "cell_type": "code",
   "execution_count": 8,
   "metadata": {},
   "outputs": [
    {
     "data": {
      "text/plain": [
       "'\\nAns :- String: A string value is a collection of one or more characters put in single, double or triple quotes\\n       int: Positive or negative whole numbers (without a fractional part) e.g. -10, 10, 456, 4654654\\n       float: Any real number with a floating-point representation in which a fractional component is denoted by a decimal symbol or scientific notation e.g. 1.23,\\n\\n'"
      ]
     },
     "execution_count": 8,
     "metadata": {},
     "output_type": "execute_result"
    }
   ],
   "source": [
    "\"\"\"\n",
    "3) Describe three different data forms.\n",
    "\n",
    "Ans :- String: A string value is a collection of one or more characters put in single, double or triple quotes\n",
    "       \n",
    "       int: Positive or negative whole numbers (without a fractional part) e.g. -10, 10, 456, 4654654\n",
    "       \n",
    "       float: Any real number with a floating-point representation in which a fractional component is denoted by a decimal symbol or scientific notation e.g. 1.23,\n",
    "\n",
    "\"\"\""
   ]
  },
  {
   "cell_type": "code",
   "execution_count": 9,
   "metadata": {},
   "outputs": [
    {
     "data": {
      "text/plain": [
       "'\\n4) What makes up an expression? What are the six comparison operators?\\n\\nAns-expression is the combination of values, variables, operators ad function, and the solution will gives you a single output\\neg- 4=2+2\\n\\nOperator\\tName\\n==\\tEqual\\n!=\\tNot equal\\n>\\tGreater than\\n<\\tLess than\\n>=\\tGreater than or equal to\\n<=\\tLess than or equal to\\n\\n'"
      ]
     },
     "execution_count": 9,
     "metadata": {},
     "output_type": "execute_result"
    }
   ],
   "source": [
    "\"\"\"\n",
    "4) What makes up an expression? What are the six comparison operators?\n",
    "\n",
    "Ans-expression is the combination of values, variables, operators ad function, and the solution will gives you a single output\n",
    "eg- 4=2+2\n",
    "\n",
    "Operator\tName\n",
    "==\tEqual\n",
    "!=\tNot equal\n",
    ">\tGreater than\n",
    "<\tLess than\n",
    ">=\tGreater than or equal to\n",
    "<=\tLess than or equal to\n",
    "\n",
    "\"\"\""
   ]
  },
  {
   "cell_type": "code",
   "execution_count": 10,
   "metadata": {},
   "outputs": [
    {
     "data": {
      "text/plain": [
       "\"\\n5. In this chapter, assignment statements such as spam = 10 were added. \\n   What's the difference between a declaration and an expression?\\n   \\nAns- Assignment statements - is used for assigning values to the variable and that variable stores the value and represent as variable names\\n     declaration- means you declare variable and use while writing code\\n     expression - expression is the combination of values, variables, operators ad function, and the solution will gives you a single output\\n\""
      ]
     },
     "execution_count": 10,
     "metadata": {},
     "output_type": "execute_result"
    }
   ],
   "source": [
    "\"\"\"\n",
    "5. In this chapter, assignment statements such as spam = 10 were added. \n",
    "   What's the difference between a declaration and an expression?\n",
    "   \n",
    "Ans- Assignment statements - is used for assigning values to the variable and that variable stores the value and represent as variable names\n",
    "     \n",
    "     declaration- means you declare variable and use while writing code\n",
    "     \n",
    "     expression - expression is the combination of values, variables, operators ad function, and the solution will gives you a single output\n",
    "\"\"\""
   ]
  },
  {
   "cell_type": "code",
   "execution_count": 11,
   "metadata": {},
   "outputs": [
    {
     "data": {
      "text/plain": [
       "'\\n6. After running the following code, what does the variable bacon contain?\\nbacon = 22\\nbacon + 1\\n\\n'"
      ]
     },
     "execution_count": 11,
     "metadata": {},
     "output_type": "execute_result"
    }
   ],
   "source": [
    "\"\"\"\n",
    "6. After running the following code, what does the variable bacon contain?\n",
    "bacon = 22\n",
    "bacon + 1\n",
    "\n",
    "Ans-23\n",
    "\"\"\""
   ]
  },
  {
   "cell_type": "code",
   "execution_count": 12,
   "metadata": {},
   "outputs": [
    {
     "data": {
      "text/plain": [
       "23"
      ]
     },
     "execution_count": 12,
     "metadata": {},
     "output_type": "execute_result"
    }
   ],
   "source": [
    "bacon = 22\n",
    "bacon + 1"
   ]
  },
  {
   "cell_type": "code",
   "execution_count": 13,
   "metadata": {},
   "outputs": [
    {
     "data": {
      "text/plain": [
       "\"\\nWhat should the values of the following two terms be?\\n\\n'spam' + 'spamspam'\\n'spam' * 3\\n\\n\""
      ]
     },
     "execution_count": 13,
     "metadata": {},
     "output_type": "execute_result"
    }
   ],
   "source": [
    "\"\"\"\n",
    "7) What should the values of the following two terms be?\n",
    "\n",
    "'spam' + 'spamspam'\n",
    "'spam' * 3\n",
    "\n",
    "Ans-'spam' + 'spamspam'\n",
    "     'spamspamspam'\n",
    "     \n",
    "     'spam' * 3\n",
    "     'spamspamspam'\n",
    "\n",
    "\"\"\""
   ]
  },
  {
   "cell_type": "code",
   "execution_count": 15,
   "metadata": {},
   "outputs": [
    {
     "data": {
      "text/plain": [
       "'spamspamspam'"
      ]
     },
     "execution_count": 15,
     "metadata": {},
     "output_type": "execute_result"
    }
   ],
   "source": [
    "'spam' + 'spamspam'"
   ]
  },
  {
   "cell_type": "code",
   "execution_count": 16,
   "metadata": {},
   "outputs": [
    {
     "data": {
      "text/plain": [
       "'spamspamspam'"
      ]
     },
     "execution_count": 16,
     "metadata": {},
     "output_type": "execute_result"
    }
   ],
   "source": [
    "'spam' * 3"
   ]
  },
  {
   "cell_type": "code",
   "execution_count": 17,
   "metadata": {},
   "outputs": [
    {
     "data": {
      "text/plain": [
       "'\\n8. Why is it that eggs is a true variable name but 100 is not?\\n\\nAns- There is a name constarint in variable declarion of python and according to them there are some rules to follow:\\n     \\n     1) Variable names may contain letters, digits (0-9) or the underscore character _ \\n     \\n     2) Vriable names must begin with a letter from A-Z or the underscore _ characte\\n     \\n     becuase of this egg is a true variable and 100 is not a corret variable name \\n\\n'"
      ]
     },
     "execution_count": 17,
     "metadata": {},
     "output_type": "execute_result"
    }
   ],
   "source": [
    "\"\"\"\n",
    "8. Why is it that eggs is a true variable name but 100 is not?\n",
    "\n",
    "Ans- There is a name constarint in variable declarion of python and according to them there are some rules to follow:\n",
    "     \n",
    "     1) Variable names may contain letters, digits (0-9) or the underscore character _ \n",
    "     \n",
    "     2) Vriable names must begin with a letter from A-Z or the underscore _ characte\n",
    "     \n",
    "     becuase of this egg is a true variable and 100 is not a corret variable name \n",
    "\n",
    "\"\"\""
   ]
  },
  {
   "cell_type": "code",
   "execution_count": 18,
   "metadata": {},
   "outputs": [
    {
     "data": {
      "text/plain": [
       "'\\n9) Which of the following three functions may be used to convert a value to an integer, a floating-point number, or a string?\\nAns- for Int- \\n'"
      ]
     },
     "execution_count": 18,
     "metadata": {},
     "output_type": "execute_result"
    }
   ],
   "source": [
    "\"\"\"\n",
    "9) Which of the following three functions may be used to convert a value to an integer, a floating-point number, or a string?\n",
    "Ans-  \n",
    "\n",
    "Converting to int\n",
    "a  = '1242154'\n",
    "type(a)\n",
    "int(a)\n",
    "\n",
    "# Converting to String\n",
    "b=str(a)\n",
    "b\n",
    "\n",
    "# Converting to float\n",
    "b  = float('5.9')\n",
    "type(b)\n",
    "b\n",
    "\"\"\""
   ]
  },
  {
   "cell_type": "code",
   "execution_count": 34,
   "metadata": {},
   "outputs": [
    {
     "data": {
      "text/plain": [
       "5.9"
      ]
     },
     "execution_count": 34,
     "metadata": {},
     "output_type": "execute_result"
    }
   ],
   "source": [
    "# Converting to int\n",
    "a  = '1242154'\n",
    "type(a)\n",
    "int(a)\n",
    "\n",
    "# Converting to String\n",
    "b=str(a)\n",
    "b\n",
    "\n",
    "# Converting to float\n",
    "b  = float('5.9')\n",
    "type(b)\n",
    "b\n",
    "\n"
   ]
  },
  {
   "cell_type": "code",
   "execution_count": 37,
   "metadata": {},
   "outputs": [
    {
     "data": {
      "text/plain": [
       "'\\n10. What is the error caused by this expression? What would you do about it?\\n\\n\\'I have eaten \\' + 99 + \\' burritos.\\'\\n\\nAns-TypeError: can only concatenate str (not \"int\") to str\\n    I would convert the int value into string .. beacuse you cannot diffrent type of data\\n\\n'"
      ]
     },
     "execution_count": 37,
     "metadata": {},
     "output_type": "execute_result"
    }
   ],
   "source": [
    "\"\"\"\n",
    "10. What is the error caused by this expression? What would you do about it?\n",
    "\n",
    "'I have eaten ' + 99 + ' burritos.'\n",
    "\n",
    "Ans-TypeError: can only concatenate str (not \"int\") to str\n",
    "    I would convert the int value into string .. beacuse you cannot diffrent type of data\n",
    "\n",
    "\"\"\""
   ]
  },
  {
   "cell_type": "code",
   "execution_count": 36,
   "metadata": {},
   "outputs": [
    {
     "ename": "TypeError",
     "evalue": "can only concatenate str (not \"int\") to str",
     "output_type": "error",
     "traceback": [
      "\u001b[1;31m---------------------------------------------------------------------------\u001b[0m",
      "\u001b[1;31mTypeError\u001b[0m                                 Traceback (most recent call last)",
      "\u001b[1;32m<ipython-input-36-d24137131a5c>\u001b[0m in \u001b[0;36m<module>\u001b[1;34m\u001b[0m\n\u001b[1;32m----> 1\u001b[1;33m \u001b[1;34m'I have eaten '\u001b[0m \u001b[1;33m+\u001b[0m \u001b[1;36m99\u001b[0m \u001b[1;33m+\u001b[0m \u001b[1;34m' burritos.'\u001b[0m\u001b[1;33m\u001b[0m\u001b[1;33m\u001b[0m\u001b[0m\n\u001b[0m",
      "\u001b[1;31mTypeError\u001b[0m: can only concatenate str (not \"int\") to str"
     ]
    }
   ],
   "source": [
    "'I have eaten ' + 99 + ' burritos.'"
   ]
  },
  {
   "cell_type": "code",
   "execution_count": null,
   "metadata": {},
   "outputs": [],
   "source": []
  }
 ],
 "metadata": {
  "kernelspec": {
   "display_name": "Python 3",
   "language": "python",
   "name": "python3"
  },
  "language_info": {
   "codemirror_mode": {
    "name": "ipython",
    "version": 3
   },
   "file_extension": ".py",
   "mimetype": "text/x-python",
   "name": "python",
   "nbconvert_exporter": "python",
   "pygments_lexer": "ipython3",
   "version": "3.8.5"
  }
 },
 "nbformat": 4,
 "nbformat_minor": 4
}
