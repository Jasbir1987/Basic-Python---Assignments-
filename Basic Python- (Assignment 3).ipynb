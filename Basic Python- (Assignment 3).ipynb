{
 "cells": [
  {
   "cell_type": "code",
   "execution_count": 1,
   "metadata": {},
   "outputs": [
    {
     "data": {
      "text/plain": [
       "'\\n1.\\tWhy are functions advantageous to have in your programs?\\nAns: functions actually help to reduce the duplicate work. With the help of functions, \\n     you can actually save the repetitive work and makes more readable and easier to understand. \\n     On top of it you can do the calculations and other task on return output.\\n\\n'"
      ]
     },
     "execution_count": 1,
     "metadata": {},
     "output_type": "execute_result"
    }
   ],
   "source": [
    "\"\"\"\n",
    "1.\tWhy are functions advantageous to have in your programs?\n",
    "Ans: functions actually help to reduce the duplicate work. With the help of functions, \n",
    "     you can actually save the repetitive work and makes more readable and easier to understand. \n",
    "     On top of it you can do the calculations and other task on return output.\n",
    "\n",
    "\"\"\""
   ]
  },
  {
   "cell_type": "code",
   "execution_count": 2,
   "metadata": {},
   "outputs": [
    {
     "data": {
      "text/plain": [
       "\"\\n2.\\tWhen does the code in a function run: when it's specified or when it's called?\\nAns: 1st we need to specified and run to become executable, once the function is executable then we can run by calling as according to the requirement.\\n\\n\""
      ]
     },
     "execution_count": 2,
     "metadata": {},
     "output_type": "execute_result"
    }
   ],
   "source": [
    "\"\"\"\n",
    "2.\tWhen does the code in a function run: when it's specified or when it's called?\n",
    "Ans: 1st we need to specified and run to become executable, once the function is executable then we can run by calling as according to the requirement.\n",
    "\n",
    "\"\"\""
   ]
  },
  {
   "cell_type": "code",
   "execution_count": 5,
   "metadata": {},
   "outputs": [
    {
     "data": {
      "text/plain": [
       "'\\n3.\\tWhat statement creates a function?\\n\\nAns:  def user_defined_function_name(list of  parameter):\\n\\t\\tCode body\\nOnce your function is executable, you can call function just by calling as below:\\n\\nuser_defined_function_name(list of parameter)\\n\\n'"
      ]
     },
     "execution_count": 5,
     "metadata": {},
     "output_type": "execute_result"
    }
   ],
   "source": [
    "\"\"\"\n",
    "3.\tWhat statement creates a function?\n",
    "\n",
    "Ans:  def user_defined_function_name(list of  parameter):\n",
    "\t\tCode body\n",
    "Once your function is executable, you can call function just by calling as below:\n",
    "\n",
    "user_defined_function_name(list of parameter)\n",
    "\n",
    "\"\"\""
   ]
  },
  {
   "cell_type": "code",
   "execution_count": 7,
   "metadata": {},
   "outputs": [
    {
     "data": {
      "text/plain": [
       "'\\n4.\\tWhat is the difference between a function and a function call?\\n\\nAns:\\n\\nA function is a block of code that does a particular operation and returns a result. \\nIt usually accepts inputs as parameters and returns a result. The parameters are not mandatory.\\n\\nE.g:\\ndef add_num(a,b)\\nreturn a+ b\\n\\nA function call is the code used to pass control to a function.\\n\\nE.g.:\\n\\nb = add_num(5,6)\\n\\nNow b will have the value 11\\n\\n'"
      ]
     },
     "execution_count": 7,
     "metadata": {},
     "output_type": "execute_result"
    }
   ],
   "source": [
    "\"\"\"\n",
    "4.\tWhat is the difference between a function and a function call?\n",
    "\n",
    "Ans:\n",
    "\n",
    "A function is a block of code that does a particular operation and returns a result. \n",
    "It usually accepts inputs as parameters and returns a result. The parameters are not mandatory.\n",
    "\n",
    "E.g:\n",
    "def add_num(a,b)\n",
    "return a+ b\n",
    "\n",
    "A function call is the code used to pass control to a function.\n",
    "\n",
    "E.g.:\n",
    "\n",
    "b = add_num(5,6)\n",
    "\n",
    "Now b will have the value 11\n",
    "\n",
    "\"\"\""
   ]
  },
  {
   "cell_type": "code",
   "execution_count": 9,
   "metadata": {},
   "outputs": [
    {
     "data": {
      "text/plain": [
       "'\\n5.\\tHow many global scopes are there in a Python program? How many local scopes?\\n\\nAns:\\n\\nGlobal scope: A variable created in the main body of the Python code is a global variable and belongs to the global scope so according to this there is ony one global scope\\n\\nLocal Scope: A variable created inside a function belongs to the local scope of that function, and can only be used inside that function. \\nThis can be any number based on the function creation\\n'"
      ]
     },
     "execution_count": 9,
     "metadata": {},
     "output_type": "execute_result"
    }
   ],
   "source": [
    "\"\"\"\n",
    "5.\tHow many global scopes are there in a Python program? How many local scopes?\n",
    "\n",
    "Ans:\n",
    "\n",
    "Global scope: A variable created in the main body of the Python code is a global variable and belongs to the global scope so according to this there is ony one global scope\n",
    "\n",
    "Local Scope: A variable created inside a function belongs to the local scope of that function, and can only be used inside that function. \n",
    "This can be any number based on the function creation\n",
    "\"\"\""
   ]
  },
  {
   "cell_type": "code",
   "execution_count": 10,
   "metadata": {},
   "outputs": [
    {
     "data": {
      "text/plain": [
       "'\\n6.\\tWhat happens to variables in a local scope when the function call returns?\\nAns:\\nA local scope is created whenever a function is called.\\nAny variables assigned in this function exist within the local scope as per the saying it plays a part of its role within the function only\\nand when the function returns, the local scope is destroyed, and these variables are forgotten.\\n\\n'"
      ]
     },
     "execution_count": 10,
     "metadata": {},
     "output_type": "execute_result"
    }
   ],
   "source": [
    "\"\"\"\n",
    "6.\tWhat happens to variables in a local scope when the function call returns?\n",
    "Ans:\n",
    "A local scope is created whenever a function is called.\n",
    "Any variables assigned in this function exist within the local scope as per the saying it plays a part of its role within the function only\n",
    "and when the function returns, the local scope is destroyed, and these variables are forgotten.\n",
    "\n",
    "\"\"\""
   ]
  },
  {
   "cell_type": "code",
   "execution_count": 11,
   "metadata": {},
   "outputs": [
    {
     "data": {
      "text/plain": [
       "'\\n7.\\tWhat is the concept of a return value? Is it possible to have a return value in an expression?\\nAns: \\nA return is a value that a function returns to the calling function when it completes its task. \\nThe type of value your function returns depends largely on the task it performs.\\nYou can perform task on top of the return value as return value has its datatype.\\n\\nYes, return type can be expression as well\\n\\n'"
      ]
     },
     "execution_count": 11,
     "metadata": {},
     "output_type": "execute_result"
    }
   ],
   "source": [
    "\"\"\"\n",
    "7.\tWhat is the concept of a return value? Is it possible to have a return value in an expression?\n",
    "Ans: \n",
    "A return is a value that a function returns to the calling function when it completes its task. \n",
    "The type of value your function returns depends largely on the task it performs.\n",
    "You can perform task on top of the return value as return value has its datatype.\n",
    "\n",
    "Yes, return type can be expression as well\n",
    "\n",
    "\"\"\""
   ]
  },
  {
   "cell_type": "code",
   "execution_count": 12,
   "metadata": {},
   "outputs": [
    {
     "data": {
      "text/plain": [
       "'\\n8.\\tIf a function does not have a return statement, what is the return value of a call to that function?\\nAns: None\\n\\n'"
      ]
     },
     "execution_count": 12,
     "metadata": {},
     "output_type": "execute_result"
    }
   ],
   "source": [
    "\"\"\"\n",
    "8.\tIf a function does not have a return statement, what is the return value of a call to that function?\n",
    "Ans: None\n",
    "\n",
    "\"\"\""
   ]
  },
  {
   "cell_type": "code",
   "execution_count": 13,
   "metadata": {},
   "outputs": [
    {
     "data": {
      "text/plain": [
       "'\\n9.\\tHow do you make a function variable refer to the global variable?\\nAns: by making a global statement. If a variable is assigned a value anywhere within the function’s body, \\nit’s assumed to be a local unless explicitly declared as global\\n\\n'"
      ]
     },
     "execution_count": 13,
     "metadata": {},
     "output_type": "execute_result"
    }
   ],
   "source": [
    "\"\"\"\n",
    "9.\tHow do you make a function variable refer to the global variable?\n",
    "Ans: by making a global statement. If a variable is assigned a value anywhere within the function’s body, \n",
    "it’s assumed to be a local unless explicitly declared as global\n",
    "\n",
    "\"\"\""
   ]
  },
  {
   "cell_type": "code",
   "execution_count": 14,
   "metadata": {},
   "outputs": [
    {
     "data": {
      "text/plain": [
       "'\\n10.\\tWhat is the data type of None?\\nAns: The data type of None is NoneType.\\n\\n'"
      ]
     },
     "execution_count": 14,
     "metadata": {},
     "output_type": "execute_result"
    }
   ],
   "source": [
    "\"\"\"\n",
    "10.\tWhat is the data type of None?\n",
    "Ans: The data type of None is NoneType.\n",
    "\n",
    "\"\"\""
   ]
  },
  {
   "cell_type": "code",
   "execution_count": 15,
   "metadata": {},
   "outputs": [
    {
     "data": {
      "text/plain": [
       "'\\n11.\\tWhat does the sentence import areallyourpetsnamederic do?\\nAns: Import areallyourpetsnamederic : this statement is trying to import the areallyourpetsnamederic. But there is no such package is available in python for import \\n\\n'"
      ]
     },
     "execution_count": 15,
     "metadata": {},
     "output_type": "execute_result"
    }
   ],
   "source": [
    "\"\"\"\n",
    "11.\tWhat does the sentence import areallyourpetsnamederic do?\n",
    "Ans: Import areallyourpetsnamederic : this statement is trying to import the areallyourpetsnamederic. But there is no such package is available in python for import \n",
    "\n",
    "\"\"\""
   ]
  },
  {
   "cell_type": "code",
   "execution_count": 16,
   "metadata": {},
   "outputs": [
    {
     "ename": "ModuleNotFoundError",
     "evalue": "No module named 'areallyourpetsnamederic'",
     "output_type": "error",
     "traceback": [
      "\u001b[1;31m---------------------------------------------------------------------------\u001b[0m",
      "\u001b[1;31mModuleNotFoundError\u001b[0m                       Traceback (most recent call last)",
      "\u001b[1;32m<ipython-input-16-b1ea9cb2228f>\u001b[0m in \u001b[0;36m<module>\u001b[1;34m\u001b[0m\n\u001b[1;32m----> 1\u001b[1;33m \u001b[1;32mimport\u001b[0m \u001b[0mareallyourpetsnamederic\u001b[0m\u001b[1;33m\u001b[0m\u001b[1;33m\u001b[0m\u001b[0m\n\u001b[0m",
      "\u001b[1;31mModuleNotFoundError\u001b[0m: No module named 'areallyourpetsnamederic'"
     ]
    }
   ],
   "source": [
    "import areallyourpetsnamederic"
   ]
  },
  {
   "cell_type": "code",
   "execution_count": 17,
   "metadata": {},
   "outputs": [
    {
     "data": {
      "text/plain": [
       "'\\n12.\\tIf you had a bacon() feature in a spam module, what would you call it after importing spam?\\nAns: This function can be called with spam.bacon().\\n\\n'"
      ]
     },
     "execution_count": 17,
     "metadata": {},
     "output_type": "execute_result"
    }
   ],
   "source": [
    "\"\"\"\n",
    "12.\tIf you had a bacon() feature in a spam module, what would you call it after importing spam?\n",
    "Ans: This function can be called with spam.bacon().\n",
    "\n",
    "\"\"\""
   ]
  },
  {
   "cell_type": "code",
   "execution_count": 18,
   "metadata": {},
   "outputs": [
    {
     "data": {
      "text/plain": [
       "'\\n13.\\tWhat can you do to save a programme from crashing if it encounters an error?\\nAns : put the line of code  in try clause, that might generate an error\\n\\n'"
      ]
     },
     "execution_count": 18,
     "metadata": {},
     "output_type": "execute_result"
    }
   ],
   "source": [
    "\"\"\"\n",
    "13.\tWhat can you do to save a programme from crashing if it encounters an error?\n",
    "Ans : put the line of code  in try clause, that might generate an error\n",
    "\n",
    "\"\"\""
   ]
  },
  {
   "cell_type": "code",
   "execution_count": 20,
   "metadata": {},
   "outputs": [
    {
     "data": {
      "text/plain": [
       "'\\n14.\\tWhat is the purpose of the try clause? What is the purpose of the except clause?\\n\\nAns:\\nTry block-The try block lets you test a block of code for errors.\\nExcept Block-The except block lets you handle the error.\\n\\n'"
      ]
     },
     "execution_count": 20,
     "metadata": {},
     "output_type": "execute_result"
    }
   ],
   "source": [
    "\"\"\"\n",
    "14.\tWhat is the purpose of the try clause? What is the purpose of the except clause?\n",
    "\n",
    "Ans:\n",
    "Try block-The try block lets you test a block of code for errors.\n",
    "Except Block-The except block lets you handle the error.\n",
    "\n",
    "\"\"\""
   ]
  },
  {
   "cell_type": "code",
   "execution_count": null,
   "metadata": {},
   "outputs": [],
   "source": []
  }
 ],
 "metadata": {
  "kernelspec": {
   "display_name": "Python 3",
   "language": "python",
   "name": "python3"
  },
  "language_info": {
   "codemirror_mode": {
    "name": "ipython",
    "version": 3
   },
   "file_extension": ".py",
   "mimetype": "text/x-python",
   "name": "python",
   "nbconvert_exporter": "python",
   "pygments_lexer": "ipython3",
   "version": "3.8.5"
  }
 },
 "nbformat": 4,
 "nbformat_minor": 4
}
