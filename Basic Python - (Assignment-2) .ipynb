{
 "cells": [
  {
   "cell_type": "code",
   "execution_count": 1,
   "metadata": {},
   "outputs": [
    {
     "data": {
      "text/plain": [
       "\"\\n1.\\tWhat are the Boolean data type's two values? How do you go about writing them?\\n\\nAns: - 2 types of Boolean data types as below: True, False\\n\\nBoolean Data Types are helpful in decision making, Bool data type gives you the control to make conditional based discission:\\n\\nExample: - In expression (x >= y) can execute only if the condition is true\\n\\n\""
      ]
     },
     "execution_count": 1,
     "metadata": {},
     "output_type": "execute_result"
    }
   ],
   "source": [
    "\"\"\"\n",
    "1.\tWhat are the Boolean data type's two values? How do you go about writing them?\n",
    "\n",
    "Ans: - 2 types of Boolean data types as below: True(1), False(0)\n",
    "\n",
    "Boolean Data Types are helpful in decision making, Bool data type gives you the control to make conditional based decision:\n",
    "\n",
    "Example: - In expression (x >= y) can execute only if the condition is true\n",
    "\n",
    "\"\"\""
   ]
  },
  {
   "cell_type": "code",
   "execution_count": 2,
   "metadata": {},
   "outputs": [
    {
     "data": {
      "text/plain": [
       "'\\n2.\\tWhat are the three different types of Boolean operators?\\n\\nAns: 3 types of Bool operators are: and, or, not\\n\\n'"
      ]
     },
     "execution_count": 2,
     "metadata": {},
     "output_type": "execute_result"
    }
   ],
   "source": [
    "\"\"\"\n",
    "2.\tWhat are the three different types of Boolean operators?\n",
    "\n",
    "Ans: 3 types of Bool operators are: \n",
    "     1)and \n",
    "     2)or\n",
    "     3)not\n",
    "\n",
    "\"\"\""
   ]
  },
  {
   "cell_type": "code",
   "execution_count": 3,
   "metadata": {},
   "outputs": [
    {
     "data": {
      "text/plain": [
       "\"\\n3.\\tMake a list of each Boolean operator's truth tables (i.e., every possible combination of Boolean values for the operator and what it evaluates).\\n\\n\""
      ]
     },
     "execution_count": 3,
     "metadata": {},
     "output_type": "execute_result"
    }
   ],
   "source": [
    "\"\"\"\n",
    "3.\tMake a list of each Boolean operator's truth tables (i.e., every possible combination of Boolean values for the operator and what it evaluates).\n",
    "\n",
    "Ans-  1) and Opertor Truth table:\n",
    "       combination---True and True, True and False, False and True, False and False\n",
    "       Output--- (True, False, False, False)\n",
    "       \n",
    "       2) Or opertor truth Table:\n",
    "       Combination--True or True, True or False, False or True, False or False\n",
    "       output-- (True, True, True, False)\n",
    "       \n",
    "       3) Not Operator Truth Table:\n",
    "       Combination--not False, not True\n",
    "       Output--(True, False)\n",
    "\"\"\""
   ]
  },
  {
   "cell_type": "code",
   "execution_count": 11,
   "metadata": {},
   "outputs": [
    {
     "data": {
      "text/plain": [
       "(True, False, False, False)"
      ]
     },
     "execution_count": 11,
     "metadata": {},
     "output_type": "execute_result"
    }
   ],
   "source": [
    "#and Operator Truth table:\n",
    "True and True, True and False, False and True, False and False"
   ]
  },
  {
   "cell_type": "code",
   "execution_count": 12,
   "metadata": {},
   "outputs": [
    {
     "data": {
      "text/plain": [
       "(True, True, True, False)"
      ]
     },
     "execution_count": 12,
     "metadata": {},
     "output_type": "execute_result"
    }
   ],
   "source": [
    "# Or Operator Truth table\n",
    "True or True, True or False, False or True, False or False"
   ]
  },
  {
   "cell_type": "code",
   "execution_count": 17,
   "metadata": {},
   "outputs": [
    {
     "data": {
      "text/plain": [
       "(True, False)"
      ]
     },
     "execution_count": 17,
     "metadata": {},
     "output_type": "execute_result"
    }
   ],
   "source": [
    "# not Operator Truth Table:\n",
    "not False, not True"
   ]
  },
  {
   "cell_type": "code",
   "execution_count": 18,
   "metadata": {},
   "outputs": [
    {
     "data": {
      "text/plain": [
       "'\\n4. What are the values of the following expressions?\\n\\n(5 > 4) and (3 == 5)\\nnot (5 > 4)\\n(5 > 4) or (3 == 5)\\nnot ((5 > 4) or (3 == 5))\\n(True and True) and (True == False)\\n(not False) or (not True)\\n\\n'"
      ]
     },
     "execution_count": 18,
     "metadata": {},
     "output_type": "execute_result"
    }
   ],
   "source": [
    "\"\"\"\n",
    "4. What are the values of the following expressions?\n",
    "\n",
    "(5 > 4) and (3 == 5) = False\n",
    "not (5 > 4)\n",
    "(5 > 4) or (3 == 5)\n",
    "not ((5 > 4) or (3 == 5))\n",
    "(True and True) and (True == False)\n",
    "(not False) or (not True)\n",
    "\n",
    "Ans:- False\n",
    "      False\n",
    "      True\n",
    "      False\n",
    "      False\n",
    "      True\n",
    "\n",
    "\"\"\""
   ]
  },
  {
   "cell_type": "code",
   "execution_count": 22,
   "metadata": {},
   "outputs": [
    {
     "name": "stdout",
     "output_type": "stream",
     "text": [
      "False\n",
      "False\n",
      "True\n",
      "False\n",
      "False\n",
      "True\n"
     ]
    }
   ],
   "source": [
    "print((5 > 4) and (3 == 5))\n",
    "print(not (5 > 4))\n",
    "print((5 > 4) or (3 == 5))\n",
    "print(not ((5 > 4) or (3 == 5)))\n",
    "print((True and True) and (True == False))\n",
    "print((not False) or (not True))"
   ]
  },
  {
   "cell_type": "code",
   "execution_count": 23,
   "metadata": {},
   "outputs": [
    {
     "data": {
      "text/plain": [
       "'\\n5. What are the six different types of reference operators?\\nAns:- \\n\\n== (equal)\\nReturns a Boolean stating whether two expressions are equal.\\n\\n!= (not equal)\\n\\nReturns a Boolean stating whether two expressions are not equal.\\n\\n> (greater than)\\nReturns a Boolean stating whether one expression is greater than the other.\\n\\n>= (greater than or equal)\\nReturns a Boolean stating whether one expression is greater than or equal the other.\\n\\n< (less than)\\nReturns a Boolean stating whether one expression is less than the other.\\n\\n<= (less than or equal)\\nReturns a Boolean stating whether one expression is less than or equal the other.\\n\\n'"
      ]
     },
     "execution_count": 23,
     "metadata": {},
     "output_type": "execute_result"
    }
   ],
   "source": [
    "\"\"\"\n",
    "5. What are the six different types of reference operators?\n",
    "Ans:- \n",
    "\n",
    "== (equal)\n",
    "Returns a Boolean stating whether two expressions are equal.\n",
    "\n",
    "!= (not equal)\n",
    "\n",
    "Returns a Boolean stating whether two expressions are not equal.\n",
    "\n",
    "> (greater than)\n",
    "Returns a Boolean stating whether one expression is greater than the other.\n",
    "\n",
    ">= (greater than or equal)\n",
    "Returns a Boolean stating whether one expression is greater than or equal the other.\n",
    "\n",
    "< (less than)\n",
    "Returns a Boolean stating whether one expression is less than the other.\n",
    "\n",
    "<= (less than or equal)\n",
    "Returns a Boolean stating whether one expression is less than or equal the other.\n",
    "\n",
    "\"\"\""
   ]
  },
  {
   "cell_type": "code",
   "execution_count": 24,
   "metadata": {},
   "outputs": [
    {
     "data": {
      "text/plain": [
       "'\\n6. How do you tell the difference between the equal to and assignment operators?\\nAns:-\\n\\n(=) It is an assignment operator, It is used for assigning the value to a variable\\n\\n(==) It is a relational or comparison operator. It is used for comparing two values. It returns 1(True) if both the values are equal otherwise returns 0(False)\\n\\n\\n'"
      ]
     },
     "execution_count": 24,
     "metadata": {},
     "output_type": "execute_result"
    }
   ],
   "source": [
    "\"\"\"\n",
    "6. How do you tell the difference between the equal to and assignment operators?\n",
    "Ans:-\n",
    "\n",
    "(=) It is an assignment operator, It is used for assigning the value to a variable\n",
    "\n",
    "(==) It is a relational or comparison operator(equal). It is used for comparing two values. It returns 1(True) if both the values are equal otherwise returns 0(False)\n",
    "\n",
    "\"\"\""
   ]
  },
  {
   "cell_type": "code",
   "execution_count": 25,
   "metadata": {},
   "outputs": [
    {
     "data": {
      "text/plain": [
       "'\\n7. Describe a condition and when you would use one.\\nAns:\\n\\n==(Equal Operator): while dealing with exspression and if we need to perform some conditional based task where we can perform  that task \\nonly if the set condition met. It returns 1(True) if both the values are equal otherwise returns 0(False)\\n\\n\\n=( assignment  Opertaor )= used for assigning value or varibale naming \\n'"
      ]
     },
     "execution_count": 25,
     "metadata": {},
     "output_type": "execute_result"
    }
   ],
   "source": [
    "\"\"\"\n",
    "7. Describe a condition and when you would use one.\n",
    "Ans:\n",
    "\n",
    "==(Equal Operator): while dealing with exspression and if we need to perform some conditional based task where we can perform  that task \n",
    "only if the set condition met. It returns 1(True) if both the values are equal otherwise returns 0(False)\n",
    "\n",
    "\n",
    "=( assignment  Opertaor )= used for assigning value or varibale naming \n",
    "\"\"\""
   ]
  },
  {
   "cell_type": "code",
   "execution_count": 26,
   "metadata": {},
   "outputs": [
    {
     "data": {
      "text/plain": [
       "\"\\n8. Recognize the following three blocks in this code:\\n\\nspam = 0\\nif spam == 10:\\n    print('eggs')\\n    if spam > 5:\\n        print('bacon')\\n    else:\\n        print('ham')\\n    print('spam')\\nprint('spam')\\n\\nAns:\\n1st block: we actully assigning 0  value to spam variable\\n2nd block : use of equal operator, we are checking condition if the value is equal to 10 then print('eggs')\\n2nd block: move to secound block to check if the value is greater than 5, ans is False  then move to else block\\n3rd block : print the output if value is less than 5\\n\\n\""
      ]
     },
     "execution_count": 26,
     "metadata": {},
     "output_type": "execute_result"
    }
   ],
   "source": [
    "\"\"\"\n",
    "8. Recognize the following three blocks in this code:\n",
    "\n",
    "spam = 0\n",
    "if spam == 10:\n",
    "    print('eggs')\n",
    "    if spam > 5:\n",
    "        print('bacon')\n",
    "    else:\n",
    "        print('ham')\n",
    "    print('spam')\n",
    "print('spam')\n",
    "\n",
    "Ans:\n",
    "we actully assigning 0  value to spam variable\n",
    "1st block : use of equal operator, we are checking condition if the value is equal to 10 then print('eggs')\n",
    "2nd block: move to secound block to check if the value is greater than 5, ans is False  then move to else block\n",
    "3rd block : print the output if value is less than 5\n",
    "\n",
    "\"\"\""
   ]
  },
  {
   "cell_type": "code",
   "execution_count": 27,
   "metadata": {},
   "outputs": [
    {
     "name": "stdout",
     "output_type": "stream",
     "text": [
      "spam\n"
     ]
    }
   ],
   "source": [
    "spam = 0\n",
    "if spam == 10:\n",
    "    print('eggs')\n",
    "    if spam > 5:\n",
    "        print('bacon')\n",
    "    else:\n",
    "        print('ham')\n",
    "    print('spam')\n",
    "print('spam')"
   ]
  },
  {
   "cell_type": "code",
   "execution_count": 38,
   "metadata": {},
   "outputs": [
    {
     "data": {
      "text/plain": [
       "'\\n9. Create a programme that prints. If 1 is stored in spam, prints Hello; \\nif 2 is stored in spam, prints Howdy; and if 3 is stored in spam, prints Salutations! if there\\'s something else in spam.\\n\\nAns:\\n\\nspam=3\\nif 1==spam:\\n    print(\\'Hello\\')\\nelif 2==spam:\\n    print(\\'Howdy\\')\\nelse:\\n    print(\"if there\\'s something else in spam\")\\n   \\n\\n'"
      ]
     },
     "execution_count": 38,
     "metadata": {},
     "output_type": "execute_result"
    }
   ],
   "source": [
    "\"\"\"\n",
    "9. Create a programme that prints. If 1 is stored in spam, prints Hello; \n",
    "if 2 is stored in spam, prints Howdy; and if 3 is stored in spam, prints Salutations! if there's something else in spam.\n",
    "\n",
    "Ans:\n",
    "\n",
    "spam=3\n",
    "if 1==spam:\n",
    "    print('Hello')\n",
    "elif 2==spam:\n",
    "    print('Howdy')\n",
    "else:\n",
    "    print(\"if there's something else in spam\")\n",
    "   \n",
    "\n",
    "\"\"\""
   ]
  },
  {
   "cell_type": "code",
   "execution_count": 37,
   "metadata": {},
   "outputs": [
    {
     "name": "stdout",
     "output_type": "stream",
     "text": [
      "if there's something else in spam\n"
     ]
    }
   ],
   "source": [
    "spam=3\n",
    "if 1==spam:\n",
    "    print('Hello')\n",
    "elif 2==spam:\n",
    "    print('Howdy')\n",
    "else:\n",
    "    print(\"if there's something else in spam\")\n",
    "   \n",
    "    "
   ]
  },
  {
   "cell_type": "code",
   "execution_count": 39,
   "metadata": {},
   "outputs": [
    {
     "data": {
      "text/plain": [
       "'\\n10.If your programme is stuck in an endless loop, what keys can you press?\\n\\nAns:- Cntrl+C\\n\\n'"
      ]
     },
     "execution_count": 39,
     "metadata": {},
     "output_type": "execute_result"
    }
   ],
   "source": [
    "\"\"\"\n",
    "10.If your programme is stuck in an endless loop, what keys can you press?\n",
    "\n",
    "Ans:- Cntrl+C\n",
    "\n",
    "\"\"\""
   ]
  },
  {
   "cell_type": "code",
   "execution_count": 40,
   "metadata": {},
   "outputs": [
    {
     "data": {
      "text/plain": [
       "'\\n11. How can you tell the difference between break and continue?\\n\\nAns: Break-is useful when you want to stop the program or loop if certain condition met and you want  to exit loop or out of the program \\n     and pass the control to main condition \\n     \\n     Continue: this is helpful to skip the certain condition or step an will continue from the next step just after skiping the mentioned \\n     step.\\n'"
      ]
     },
     "execution_count": 40,
     "metadata": {},
     "output_type": "execute_result"
    }
   ],
   "source": [
    "\"\"\"\n",
    "11. How can you tell the difference between break and continue?\n",
    "\n",
    "Ans: Break-is useful when you want to stop the program or loop if certain condition met and you want  to exit loop or out of the program \n",
    "     and pass the control to main condition \n",
    "     \n",
    "     Continue: this is helpful to skip the certain condition or step an will continue from the next step just after skiping the mentioned \n",
    "     step.\n",
    "\"\"\""
   ]
  },
  {
   "cell_type": "code",
   "execution_count": null,
   "metadata": {},
   "outputs": [],
   "source": []
  }
 ],
 "metadata": {
  "kernelspec": {
   "display_name": "Python 3",
   "language": "python",
   "name": "python3"
  },
  "language_info": {
   "codemirror_mode": {
    "name": "ipython",
    "version": 3
   },
   "file_extension": ".py",
   "mimetype": "text/x-python",
   "name": "python",
   "nbconvert_exporter": "python",
   "pygments_lexer": "ipython3",
   "version": "3.8.5"
  }
 },
 "nbformat": 4,
 "nbformat_minor": 4
}
