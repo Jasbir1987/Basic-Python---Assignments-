{
 "cells": [
  {
   "cell_type": "code",
   "execution_count": 1,
   "metadata": {},
   "outputs": [
    {
     "data": {
      "text/plain": [
       "\"\\n1. What does an empty dictionary's code look like?\\nAns: Empty dictionary looks like, {}\\n\\n\""
      ]
     },
     "execution_count": 1,
     "metadata": {},
     "output_type": "execute_result"
    }
   ],
   "source": [
    "\"\"\"\n",
    "1. What does an empty dictionary's code look like?\n",
    "Ans: Empty dictionary looks like, {}\n",
    "\n",
    "\"\"\""
   ]
  },
  {
   "cell_type": "code",
   "execution_count": 3,
   "metadata": {},
   "outputs": [
    {
     "data": {
      "text/plain": [
       "\"\\n2. What is the value of a dictionary value with the key 'foo' and the value 42?\\nAns: {'foo': 42}\\n\""
      ]
     },
     "execution_count": 3,
     "metadata": {},
     "output_type": "execute_result"
    }
   ],
   "source": [
    "\"\"\"\n",
    "2. What is the value of a dictionary value with the key 'foo' and the value 42?\n",
    "Ans: {'foo': 42}\n",
    "\"\"\""
   ]
  },
  {
   "cell_type": "code",
   "execution_count": 4,
   "metadata": {},
   "outputs": [
    {
     "data": {
      "text/plain": [
       "'\\n3. What is the most significant distinction between a dictionary and a list?\\nAns: List is ordered collection however the dictionary is not, basically dictionary stored data intially \\nin ordered manner but that is not fixed.\\n\\n'"
      ]
     },
     "execution_count": 4,
     "metadata": {},
     "output_type": "execute_result"
    }
   ],
   "source": [
    "\"\"\"\n",
    "3. What is the most significant distinction between a dictionary and a list?\n",
    "Ans: List is ordered collection however the dictionary is not, basically dictionary stored data intially \n",
    "in ordered manner but that is not fixed.\n",
    "\n",
    "\"\"\""
   ]
  },
  {
   "cell_type": "code",
   "execution_count": 7,
   "metadata": {},
   "outputs": [
    {
     "data": {
      "text/plain": [
       "\"\\n4. What happens if you try to access spam['foo'] if spam is {'bar': 100}?\\nAns: ---------------------------------------------------------------------------\\nKeyError                                  Traceback (most recent call last)\\n<ipython-input-6-a9492f4b720a> in <module>\\n      1 spam={'bar': 100}\\n----> 2 spam['foo']\\n\\nKeyError: 'foo'\\n\""
      ]
     },
     "execution_count": 7,
     "metadata": {},
     "output_type": "execute_result"
    }
   ],
   "source": [
    "\"\"\"\n",
    "4. What happens if you try to access spam['foo'] if spam is {'bar': 100}?\n",
    "Ans: ---------------------------------------------------------------------------\n",
    "KeyError                                  Traceback (most recent call last)\n",
    "<ipython-input-6-a9492f4b720a> in <module>\n",
    "      1 spam={'bar': 100}\n",
    "----> 2 spam['foo']\n",
    "\n",
    "KeyError: 'foo'\n",
    "\"\"\""
   ]
  },
  {
   "cell_type": "code",
   "execution_count": 6,
   "metadata": {},
   "outputs": [
    {
     "ename": "KeyError",
     "evalue": "'foo'",
     "output_type": "error",
     "traceback": [
      "\u001b[1;31m---------------------------------------------------------------------------\u001b[0m",
      "\u001b[1;31mKeyError\u001b[0m                                  Traceback (most recent call last)",
      "\u001b[1;32m<ipython-input-6-a9492f4b720a>\u001b[0m in \u001b[0;36m<module>\u001b[1;34m\u001b[0m\n\u001b[0;32m      1\u001b[0m \u001b[0mspam\u001b[0m\u001b[1;33m=\u001b[0m\u001b[1;33m{\u001b[0m\u001b[1;34m'bar'\u001b[0m\u001b[1;33m:\u001b[0m \u001b[1;36m100\u001b[0m\u001b[1;33m}\u001b[0m\u001b[1;33m\u001b[0m\u001b[1;33m\u001b[0m\u001b[0m\n\u001b[1;32m----> 2\u001b[1;33m \u001b[0mspam\u001b[0m\u001b[1;33m[\u001b[0m\u001b[1;34m'foo'\u001b[0m\u001b[1;33m]\u001b[0m\u001b[1;33m\u001b[0m\u001b[1;33m\u001b[0m\u001b[0m\n\u001b[0m",
      "\u001b[1;31mKeyError\u001b[0m: 'foo'"
     ]
    }
   ],
   "source": [
    "spam={'bar': 100}\n",
    "spam['foo']"
   ]
  },
  {
   "cell_type": "code",
   "execution_count": 11,
   "metadata": {},
   "outputs": [
    {
     "data": {
      "text/plain": [
       "\"\\n5. If a dictionary is stored in spam, what is the difference between the expressions 'cat' \\nin spam and 'cat' in spam.keys()?\\nAns: I dont think there is any difference between expressions 'cat' in spam and 'cat' in spam.keys()\\n\\nas in operator checks whether a value exists as a key :\\n\\nspam={'cat':2}\\n\\n'cat' in spam\\n\\n'cat' in spam.keys()\\n\\nboth have given the same output \\n\\n\\n\\n\""
      ]
     },
     "execution_count": 11,
     "metadata": {},
     "output_type": "execute_result"
    }
   ],
   "source": [
    "\"\"\"\n",
    "5. If a dictionary is stored in spam, what is the difference between the expressions 'cat' \n",
    "in spam and 'cat' in spam.keys()?\n",
    "Ans: I dont think there is any difference between expressions 'cat' in spam and 'cat' in spam.keys()\n",
    "\n",
    "as in operator checks whether a value exists as a key :\n",
    "\n",
    "spam={'cat':2}\n",
    "\n",
    "'cat' in spam\n",
    "\n",
    "'cat' in spam.keys()\n",
    "\n",
    "both have given the same output \n",
    "\n",
    "\"\"\""
   ]
  },
  {
   "cell_type": "code",
   "execution_count": 10,
   "metadata": {},
   "outputs": [
    {
     "data": {
      "text/plain": [
       "True"
      ]
     },
     "execution_count": 10,
     "metadata": {},
     "output_type": "execute_result"
    }
   ],
   "source": [
    "spam={'cat':2}\n",
    "\n",
    "'cat' in spam\n",
    "\n",
    "'cat' in spam.keys()\n"
   ]
  },
  {
   "cell_type": "code",
   "execution_count": 12,
   "metadata": {},
   "outputs": [
    {
     "data": {
      "text/plain": [
       "\"\\n6. If a dictionary is stored in spam, what is the difference between the expressions 'cat' in spam\\nand 'cat' in spam.values()?\\n\\nAns:\\n\\n\""
      ]
     },
     "execution_count": 12,
     "metadata": {},
     "output_type": "execute_result"
    }
   ],
   "source": [
    "\"\"\"\n",
    "6. If a dictionary is stored in spam, what is the difference between the expressions 'cat' in spam\n",
    "and 'cat' in spam.values()?\n",
    "\n",
    "Ans: both will give the different output:\n",
    "\n",
    "spam={'cat':2}\n",
    "\n",
    "'cat' in spam\n",
    "\n",
    "output => True\n",
    "\n",
    "'cat' in spam.values()\n",
    "\n",
    "output => false\n",
    "\n",
    "\"\"\""
   ]
  },
  {
   "cell_type": "code",
   "execution_count": 15,
   "metadata": {},
   "outputs": [
    {
     "data": {
      "text/plain": [
       "False"
      ]
     },
     "execution_count": 15,
     "metadata": {},
     "output_type": "execute_result"
    }
   ],
   "source": [
    "spam={'cat':2}\n",
    "\n",
    "'cat' in spam\n",
    "\n",
    "'cat' in spam.values()"
   ]
  },
  {
   "cell_type": "code",
   "execution_count": 23,
   "metadata": {},
   "outputs": [
    {
     "data": {
      "text/plain": [
       "\"\\n7. What is a shortcut for the following code?\\nif 'color' not in spam:\\nspam['color'] = 'black'\\n\\nAns:\\n\\nThe setdefault() method provides a way to auto assign the key and value  if \\n\\nIf the key does not exist, the value to be set\\n\\nIf the key does exist, the method returns the value of the key.\\n\\nspam.setdefault('color','black')\\n\\n\""
      ]
     },
     "execution_count": 23,
     "metadata": {},
     "output_type": "execute_result"
    }
   ],
   "source": [
    "\"\"\"\n",
    "7. What is a shortcut for the following code?\n",
    "if 'color' not in spam:\n",
    "spam['color'] = 'black'\n",
    "\n",
    "Ans:\n",
    "\n",
    "The setdefault() method provides a way to auto assign the key and value  if \n",
    "\n",
    "If the key does not exist, the value to be set\n",
    "\n",
    "If the key does exist, the method returns the value of the key.\n",
    "\n",
    "spam.setdefault('color','black')\n",
    "\n",
    "\"\"\""
   ]
  },
  {
   "cell_type": "code",
   "execution_count": 17,
   "metadata": {},
   "outputs": [],
   "source": [
    "if 'color' not in spam:\n",
    "    spam['color'] = 'black'"
   ]
  },
  {
   "cell_type": "code",
   "execution_count": 22,
   "metadata": {},
   "outputs": [
    {
     "data": {
      "text/plain": [
       "{'cat': 2, 'color': 'black'}"
      ]
     },
     "execution_count": 22,
     "metadata": {},
     "output_type": "execute_result"
    }
   ],
   "source": [
    "spam.setdefault('color','black')\n",
    "\n",
    "spam"
   ]
  },
  {
   "cell_type": "code",
   "execution_count": 18,
   "metadata": {},
   "outputs": [
    {
     "data": {
      "text/plain": [
       "'\\n\\n8. How do you \"pretty print\" dictionary values using which module and function?\\n\\nAns: pprint.pprint()\\n\\n'"
      ]
     },
     "execution_count": 18,
     "metadata": {},
     "output_type": "execute_result"
    }
   ],
   "source": [
    "\"\"\"\n",
    "\n",
    "8. How do you \"pretty print\" dictionary values using which module and function?\n",
    "\n",
    "Ans: pprint.pprint(): helps to more readable the coplex collections or data\n",
    "\n",
    "\"\"\""
   ]
  },
  {
   "cell_type": "code",
   "execution_count": null,
   "metadata": {},
   "outputs": [],
   "source": []
  }
 ],
 "metadata": {
  "kernelspec": {
   "display_name": "Python 3",
   "language": "python",
   "name": "python3"
  },
  "language_info": {
   "codemirror_mode": {
    "name": "ipython",
    "version": 3
   },
   "file_extension": ".py",
   "mimetype": "text/x-python",
   "name": "python",
   "nbconvert_exporter": "python",
   "pygments_lexer": "ipython3",
   "version": "3.8.5"
  }
 },
 "nbformat": 4,
 "nbformat_minor": 4
}
